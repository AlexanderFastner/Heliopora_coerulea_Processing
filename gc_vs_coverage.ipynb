{
 "cells": [
  {
   "cell_type": "markdown",
   "id": "6b318748",
   "metadata": {},
   "source": [
    "# Description"
   ]
  },
  {
   "cell_type": "code",
   "execution_count": 1,
   "id": "974af06e",
   "metadata": {},
   "outputs": [],
   "source": [
    "#1 get GC content from contigs\n",
    "    #get GC content in set chunk sizes\n",
    "    \n",
    "#2 get coverage for contigs\n",
    "    #get coverage in chunk sizes\n",
    "\n",
    "#3 blob plot gc vs average coverage\n",
    "\n",
    "#4 plot gc content/coverage for each contig (if significant in some way)\n",
    "\n",
    "#5 kmeans clusters"
   ]
  },
  {
   "cell_type": "code",
   "execution_count": 2,
   "id": "a7684a0b",
   "metadata": {},
   "outputs": [],
   "source": [
    "import pandas as pd\n",
    "import matplotlib.pyplot as plt\n",
    "from scipy import stats\n",
    "import numpy as np\n",
    "import csv\n",
    "import os\n",
    "import shutil"
   ]
  },
  {
   "cell_type": "markdown",
   "id": "0c2893ee",
   "metadata": {},
   "source": [
    "# Parameters"
   ]
  },
  {
   "cell_type": "raw",
   "id": "d0ec1c42",
   "metadata": {},
   "source": [
    "assembly : the fasta input\n",
    "coverage_per_contig : A tsv file with information for each contig\n",
    "coverage_per_base:  A tsv file with coverage information for each base pair position\n",
    "out_dir : output directory\n",
    "min_contig_size : the minimum size of a contig, otherwise its ignored\n",
    "chunk_size : the chunk size for dividing up longer contigs (default 10000)\n",
    "visualize_GC : An option for creating plots showing the distribution of GC content accross a contig in steps of a given chunk size (default = False)\n",
    "save_GC_plot : option to create an output dir savinig a plot for each GC plot created by visualizeGC\n",
    "visualize_Coverage : An option to create plots showing coverage distribution per contig\n",
    "save_coverage_plot : option to save coverage plots in out dir\n",
    "threshold_pct : The percentage away from the mean that something needs to be in order to be highlighted\n",
    "visualize_blob : Option to visualize blob plot\n",
    "save_blob_plot : Option to save blob plot"
   ]
  },
  {
   "cell_type": "code",
   "execution_count": 48,
   "id": "1a1180c0",
   "metadata": {},
   "outputs": [],
   "source": [
    "assembly = \"./data/final.p_ctg.fasta\"\n",
    "coverage_per_contig = \"./data/heliopora_coerulea_hifi_2_p_assembly.coverage\"\n",
    "coverage_per_base = \"./data/heliopora_coerulea_hifi_2_p_assembly.depth\"\n",
    "out_dir = \"out_dir/\"\n",
    "min_contig_size = 292158\n",
    "chunk_size = 10000\n",
    "visualize_GC = False\n",
    "save_GC_plot = False\n",
    "visualize_Coverage = False\n",
    "save_coverage_plot = False\n",
    "threshold_pct = 50\n",
    "visualize_blob = True\n",
    "save_blob_plot = True\n",
    "plot_min_length = 2031501"
   ]
  },
  {
   "cell_type": "markdown",
   "id": "5b434043",
   "metadata": {},
   "source": [
    "# Naive GC content for each content"
   ]
  },
  {
   "cell_type": "code",
   "execution_count": 4,
   "id": "ff775cac",
   "metadata": {},
   "outputs": [],
   "source": [
    "def get_gc_content(fasta_file):\n",
    "    \"\"\"\n",
    "    Reads in a FASTA file and returns a dictionary mapping contig IDs to their GC content\n",
    "    \"\"\"\n",
    "    gc_content = {}\n",
    "    current_id = None\n",
    "    current_seq = \"\"\n",
    "    \n",
    "    with open(fasta_file, \"r\") as f:\n",
    "        for line in f:\n",
    "            if line.startswith(\">\"):\n",
    "                # If this is a new contig, calculate the GC content for the previous one (if there was one)\n",
    "                if current_id is not None:\n",
    "                    #remove if current_seq y min_contig_size\n",
    "                    if len(current_seq) > min_contig_size:\n",
    "                        gc_content[current_id] = (current_seq.count(\"G\") + current_seq.count(\"C\")) / len(current_seq)\n",
    "                        \n",
    "                # Start the new contig\n",
    "                current_id = line.strip()[1:].split(\"/\")[3]\n",
    "                current_seq = \"\"\n",
    "            else:\n",
    "                current_seq += line.strip()\n",
    "    \n",
    "    # Calculate GC content for the final contig\n",
    "    gc_content[current_id] = (current_seq.count(\"G\") + current_seq.count(\"C\")) / len(current_seq)\n",
    "    \n",
    "    return gc_content"
   ]
  },
  {
   "cell_type": "code",
   "execution_count": 5,
   "id": "c675f328",
   "metadata": {},
   "outputs": [
    {
     "name": "stdout",
     "output_type": "stream",
     "text": [
      "280\n"
     ]
    }
   ],
   "source": [
    "naive_gc = get_gc_content(assembly)\n",
    "#print(naive_gc)\n",
    "print(len(naive_gc))"
   ]
  },
  {
   "cell_type": "markdown",
   "id": "aad90d78",
   "metadata": {},
   "source": [
    "# GC content for each contig by averaging in given chunk sizes"
   ]
  },
  {
   "cell_type": "code",
   "execution_count": 39,
   "id": "0ad03fd9",
   "metadata": {},
   "outputs": [],
   "source": [
    "def get_gc_content_chunks(fasta_file, chunk_size):\n",
    "    \"\"\"\n",
    "    Reads in a FASTA file and returns a dictionary mapping contig IDs to a list of gc content per chunk size\n",
    "    \"\"\"\n",
    "    gc_content = {}\n",
    "    current_id = None\n",
    "    current_seq = \"\"\n",
    "    chunks = []\n",
    "    \n",
    "    with open(fasta_file, \"r\") as f:\n",
    "        for line in f:\n",
    "            if line.startswith(\">\"):\n",
    "                # If this is a new contig, calculate the GC content for the previous one (if there was one)\n",
    "                if current_id is not None:\n",
    "                    #remove if current_seq < min_contig_size\n",
    "                    if len(current_seq) > min_contig_size:  \n",
    "                        i = 0\n",
    "                        while i < len(current_seq):\n",
    "                            # check for last chunk\n",
    "                            if (i + chunk_size) > len(current_seq):\n",
    "                                end = len(current_seq)\n",
    "                            else:\n",
    "                                end = i + chunk_size\n",
    "                            sub = current_seq[i:end]\n",
    "                            gc = round(((sub.count(\"G\") + sub.count(\"C\")) / len(sub)),2)\n",
    "                            chunks.append(gc)\n",
    "                            i = end\n",
    "                        # add to dictionary in form {current_id : [array of GC content of given chunk size]}\n",
    "                        gc_content[current_id] = [chunks, len(current_seq)]\n",
    "\n",
    "                # Start the new contig\n",
    "                current_id = line.strip()[1:].split(\"/\")[3]\n",
    "                current_seq = \"\"\n",
    "                chunks = []\n",
    "                \n",
    "            else:\n",
    "                current_seq += line.strip()\n",
    "                \n",
    "        # calculate GC content for the last contig\n",
    "        if current_id is not None:\n",
    "            i = 0\n",
    "            while i < len(current_seq):\n",
    "                # check for last chunk\n",
    "                if (i + chunk_size) > len(current_seq):\n",
    "                    end = len(current_seq)\n",
    "                else:\n",
    "                    end = i + chunk_size\n",
    "                sub = current_seq[i:end]\n",
    "                gc = round(((sub.count(\"G\") + sub.count(\"C\")) / len(sub)), 2)\n",
    "                chunks.append(gc)\n",
    "                i = end\n",
    "            # add to dictionary in form {current_id : [array of GC content of given chunk size, length]}\n",
    "            gc_content[current_id] = [chunks, len(current_seq)]\n",
    "        \n",
    "    return gc_content"
   ]
  },
  {
   "cell_type": "code",
   "execution_count": null,
   "id": "c4d18eb4",
   "metadata": {},
   "outputs": [],
   "source": [
    "chunks = get_gc_content_chunks(assembly, chunk_size)\n",
    "gc_trimmed_mean = {}\n",
    "#Get the trimmed mean from chunks\n",
    "for entry in chunks:\n",
    "    length = chunks.get(entry)[1]\n",
    "    avg_cov = chunks.get(entry)[0]\n",
    "    gc_trimmed_mean[entry] = [stats.trim_mean(avg_cov, 0.05), length]\n",
    "#print(gc_trimmed_mean)"
   ]
  },
  {
   "cell_type": "markdown",
   "id": "ac3e2afd",
   "metadata": {},
   "source": [
    "# Visualize GC content "
   ]
  },
  {
   "cell_type": "code",
   "execution_count": 8,
   "id": "b7b706d6",
   "metadata": {},
   "outputs": [
    {
     "name": "stdout",
     "output_type": "stream",
     "text": [
      "GC visualization is turned off.\n"
     ]
    }
   ],
   "source": [
    "if save_GC_plot:\n",
    "    save_dir = out_dir + \"./GC_visual_output\"\n",
    "    if not os.path.exists(save_dir):\n",
    "        os.makedirs(save_dir)\n",
    "\n",
    "if visualize_GC:\n",
    "    for id, gc_content in chunks.items():\n",
    "        #format id\n",
    "        id = id.split(\"/\")[3]\n",
    "        \n",
    "        # create a bar plot\n",
    "        fig, ax = plt.subplots()\n",
    "        mean_gc = np.mean(gc_content)\n",
    "        colors = ['red' if abs(gc - mean_gc) / mean_gc * 100 >= threshold_pct else 'blue' for gc in gc_content]\n",
    "        plt.bar(range(len(gc_content)), gc_content, color=colors)\n",
    "        ax.axhline(y=gc_trimmed_mean[id], color='black')\n",
    "        plt.title(\"Contig: \" + str(id))\n",
    "        plt.xlabel('index of Chunk of size: ' + str(chunk_size))\n",
    "        plt.ylabel('GC content')\n",
    "\n",
    "        # save the plot\n",
    "        if save_GC_plot:\n",
    "            save_path = os.path.join(save_dir, \"GC_content_\" + str(id) + \".png\")\n",
    "            plt.savefig(save_path)\n",
    "\n",
    "        # show the plot\n",
    "        plt.show()\n",
    "\n",
    "else:\n",
    "    print(\"GC visualization is turned off.\")"
   ]
  },
  {
   "cell_type": "markdown",
   "id": "2c6a8705",
   "metadata": {},
   "source": [
    "# Naive coverage"
   ]
  },
  {
   "cell_type": "code",
   "execution_count": 9,
   "id": "d9a58bd8",
   "metadata": {},
   "outputs": [],
   "source": [
    "def get_coverage_per_contig(coverage_file):\n",
    "    naive_coverage = {}\n",
    "\n",
    "    with open(coverage_file, \"r\") as f:\n",
    "        next(f)\n",
    "        for line in f:\n",
    "            # Split line into columns\n",
    "            columns = line.strip().split(\"\\t\")\n",
    "\n",
    "            #only add if length > min_contig_size\n",
    "            if (int(columns[2]) - int(columns[1])) > min_contig_size:\n",
    "                # Use the first column as key and the sixth column as value\n",
    "                key = columns[0].split(\"/\")[3]\n",
    "                value = columns[6]\n",
    "                length = int(columns[2]) - int(columns[1])\n",
    "\n",
    "                # Add key-value pair to dictionary\n",
    "                naive_coverage[key] = [float(value), length]\n",
    "            \n",
    "    f.close()\n",
    "    return naive_coverage"
   ]
  },
  {
   "cell_type": "code",
   "execution_count": 10,
   "id": "92cdd791",
   "metadata": {},
   "outputs": [
    {
     "name": "stdout",
     "output_type": "stream",
     "text": [
      "279\n"
     ]
    }
   ],
   "source": [
    "naive_coverage = get_coverage_per_contig(coverage_per_contig)\n",
    "print(len(naive_coverage))"
   ]
  },
  {
   "cell_type": "markdown",
   "id": "0ecb8a1c",
   "metadata": {},
   "source": [
    "# Chunk averaged Coverage"
   ]
  },
  {
   "cell_type": "code",
   "execution_count": 11,
   "id": "6a896c1f",
   "metadata": {},
   "outputs": [],
   "source": [
    "def get_coverage_per_contig_by_chunks(depth_file, chunk_size):\n",
    "    save_dir = out_dir + \"Coverage_output/\"\n",
    "    \n",
    "    # Define a dictionary to store the coverage data for each ID\n",
    "    id_data = {}\n",
    "\n",
    "    # Read in the TSV file\n",
    "    with open(depth_file, 'r') as tsvfile:\n",
    "        reader = csv.reader(tsvfile, delimiter='\\t')\n",
    "\n",
    "        # Iterate over each row in the file\n",
    "        for row in reader:\n",
    "            # Extract the ID, index, and coverage from the row\n",
    "            id = row[0].split(\"/\")[3]\n",
    "            index = int(row[1])\n",
    "            coverage = float(row[2])\n",
    "\n",
    "            # Check if this is the first row for this ID\n",
    "            if id not in id_data:\n",
    "                id_data[id] = []\n",
    "\n",
    "            # Find the window index for this row\n",
    "            window_index = index // chunk_size\n",
    "\n",
    "            # Check if there is already coverage data for this window\n",
    "            if len(id_data[id]) <= window_index:\n",
    "                # Add a new entry for this window\n",
    "                id_data[id].append({'window_sum': coverage, 'window_count': 1})\n",
    "            else:\n",
    "                # Add the coverage to the existing window data\n",
    "                id_data[id][window_index]['window_sum'] += coverage\n",
    "                id_data[id][window_index]['window_count'] += 1            \n",
    "                \n",
    "          \n",
    "    # Write the output to a file\n",
    "    with open(save_dir + \"chunked_windows_coverage.tsv\", 'w') as outfile:\n",
    "        outfile.write(\"id\\tindex\\taverage_coverage\\n\")\n",
    "        for id, windows in id_data.items():\n",
    "            #check total length > min_contig_size\n",
    "            total_len = 0\n",
    "            for i, window in enumerate(windows):\n",
    "                total_len += window['window_count']\n",
    "                if total_len > min_contig_size:\n",
    "                    for i, window in enumerate(windows):\n",
    "                        if window['window_count'] > 0:\n",
    "                            avg_coverage = round((window['window_sum'] / window['window_count']), 2)\n",
    "                            outfile.write(f\"{id}\\t{i}\\t{avg_coverage}\\n\")\n",
    "                        \n",
    "        outfile.close()\n",
    "    \n",
    "    #now get the average coverage for each id\n",
    "    # Open the input file\n",
    "    with open(save_dir + \"chunked_windows_coverage.tsv\", \"r\") as f:\n",
    "        next(f)\n",
    "        # Create a dictionary to store the total coverage and highest index for each id\n",
    "        id_coverage = {}\n",
    "        # Read through each line in the file\n",
    "        for line in f:\n",
    "            # Split the line into three columns\n",
    "            id, index, coverage = line.strip().split(\"\\t\")\n",
    "            # Convert the coverage to float\n",
    "            index = float(index)\n",
    "            coverage = float(coverage)\n",
    "            # If the id is not in the dictionary yet, add it with a coverage of 0 and index of -1\n",
    "            if id not in id_coverage:\n",
    "                id_coverage[id] = {\"coverage\": 0, \"max_index\": -1}\n",
    "            # Add the coverage to the total for this id\n",
    "            id_coverage[id][\"coverage\"] += coverage\n",
    "            # Update the max index for this id if the current index is higher\n",
    "            if index > id_coverage[id][\"max_index\"]:\n",
    "                id_coverage[id][\"max_index\"] = index\n",
    "    f.close()\n",
    "    \n",
    "    #make list of coverages, then take trimmed mean of that list\n",
    "    coverage_trimmed_mean = {}\n",
    "    for entry in id_data:\n",
    "        coverages = []\n",
    "        for chunk in id_data.get(entry):\n",
    "            window_sum = float(chunk.get('window_sum'))\n",
    "            window_count = float(chunk.get('window_count'))\n",
    "            coverage = round((window_sum / window_count), 2)\n",
    "            coverages.append(coverage)\n",
    "        \n",
    "        coverage_trimmed_mean[entry] = round(stats.trim_mean(coverages, 0.05), 2)\n",
    "        \n",
    "    # Open the output file\n",
    "    with open(save_dir + \"chunked_coverage.tsv\", \"w\") as f:\n",
    "        # Write the header row\n",
    "        f.write(\"id\\taverage_coverage\\n\")\n",
    "        # Loop through the ids in the dictionary\n",
    "        for id in coverage_trimmed_mean:\n",
    "            average_coverage = coverage_trimmed_mean[id]\n",
    "            f.write(\"{}\\t{}\\n\".format(id, average_coverage))\n",
    "    f.close()\n",
    "\n",
    "    return id_data"
   ]
  },
  {
   "cell_type": "code",
   "execution_count": 12,
   "id": "2fb693cb",
   "metadata": {},
   "outputs": [
    {
     "data": {
      "text/plain": [
       "3348"
      ]
     },
     "execution_count": 12,
     "metadata": {},
     "output_type": "execute_result"
    }
   ],
   "source": [
    "chunks_coverage = get_coverage_per_contig_by_chunks(coverage_per_base, chunk_size)\n",
    "len(chunks_coverage)"
   ]
  },
  {
   "cell_type": "markdown",
   "id": "0121ae3a",
   "metadata": {},
   "source": [
    "# Visualize Coverage"
   ]
  },
  {
   "cell_type": "code",
   "execution_count": 13,
   "id": "474b97cc",
   "metadata": {},
   "outputs": [
    {
     "name": "stdout",
     "output_type": "stream",
     "text": [
      "Coverage visualization is turned off.\n"
     ]
    }
   ],
   "source": [
    "save_dir = out_dir + \"Coverage_output/\"\n",
    "if not os.path.exists(save_dir):\n",
    "    os.makedirs(save_dir)\n",
    "\n",
    "#windows\n",
    "data = pd.read_csv(save_dir + \"chunked_windows_coverage.tsv\", dtype={'id': 'object'}, sep = \"\\t\")\n",
    "trimmed_mean = pd.read_csv(save_dir + \"chunked_coverage.tsv\", dtype={'id': 'object'}, sep = \"\\t\")\n",
    "\n",
    "# Convert data to pandas dataframe\n",
    "df = pd.DataFrame(data)\n",
    "mean = pd.DataFrame(trimmed_mean)\n",
    "# Group data by id\n",
    "groups = df.groupby('id')\n",
    "# Get a list of unique ids\n",
    "unique_ids = df['id'].unique()\n",
    "    \n",
    "if visualize_Coverage:\n",
    "    # Create a separate plot for each id\n",
    "    for id in unique_ids:\n",
    "        # Filter the dataframe to get only the rows for this id\n",
    "        df_id = df[df['id'] == id]\n",
    "        \n",
    "        fig, ax = plt.subplots()\n",
    "        trimmed_mean_coverage = float(mean.loc[mean['id'] == id, 'average_coverage'])\n",
    "        ax.axhline(y=trimmed_mean_coverage, color='black')\n",
    "\n",
    "        #filtered colors\n",
    "        colors = ['red' if abs(coverage - trimmed_mean_coverage) / trimmed_mean_coverage * 100 >= threshold_pct else 'blue' for coverage in df_id['average_coverage']]\n",
    "\n",
    "        # Plot the data for this id\n",
    "        plt.bar(df_id['index'], df_id['average_coverage'], label=f\"id={id}\", color=colors)\n",
    "        \n",
    "        # Add labels and legend\n",
    "        plt.xlabel('Index of chunk size ' + str(chunk_size))\n",
    "        plt.ylabel('Average coverage')\n",
    "\n",
    "        # save the plot\n",
    "        if save_coverage_plot:\n",
    "            save_path = os.path.join(save_dir, \"Coverage_\" + str(id) + \".png\")\n",
    "            plt.savefig(save_path)\n",
    "        \n",
    "        # Show the plot\n",
    "        plt.show()\n",
    "        \n",
    "else :\n",
    "    print(\"Coverage visualization is turned off.\")"
   ]
  },
  {
   "cell_type": "markdown",
   "id": "841d53fe",
   "metadata": {},
   "source": [
    "# Blob Plot"
   ]
  },
  {
   "cell_type": "code",
   "execution_count": 49,
   "id": "0b6cb080",
   "metadata": {},
   "outputs": [
    {
     "name": "stderr",
     "output_type": "stream",
     "text": [
      "No artists with labels found to put in legend.  Note that artists whose label start with an underscore are ignored when legend() is called with no argument.\n"
     ]
    },
    {
     "name": "stdout",
     "output_type": "stream",
     "text": [
      "         id  gc_content  average_coverage    length\n",
      "118  000065    0.379177           58.4992   2475377\n",
      "119  000066    0.381345           65.0085   2462480\n",
      "120  000067    0.381787           63.7728   2395002\n",
      "121  000070    0.383817           58.6869   2190024\n",
      "122  000071    0.385237           62.1368   2181965\n",
      "..      ...         ...               ...       ...\n",
      "274  000005    0.373691           62.6098  10947281\n",
      "275  000006    0.372222           60.7717   8531206\n",
      "276  000007    0.371821           63.8772   8143996\n",
      "277  000008    0.374679           72.1410   7607639\n",
      "278  000009    0.375600           61.1751   7593896\n",
      "\n",
      "[66 rows x 4 columns]\n"
     ]
    },
    {
     "data": {
      "image/png": "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",
      "text/plain": [
       "<Figure size 640x480 with 1 Axes>"
      ]
     },
     "metadata": {},
     "output_type": "display_data"
    }
   ],
   "source": [
    "#plot gc content (x) vs coverage (y)\n",
    "if visualize_blob:\n",
    "    \n",
    "    #plot 1 naive\n",
    "    data = [{'id': k, 'gc_content': v} for k, v in naive_gc.items()]\n",
    "    data2 = [{'id': k, 'average_coverage': v[0], 'length': v[1]} for k, v in naive_coverage.items()]\n",
    "    # Convert the list of dictionaries to dataframes\n",
    "    df1 = pd.DataFrame(data)\n",
    "    df2 = pd.DataFrame(data2)\n",
    "    naive_df = pd.merge(df1, df2, on = 'id')\n",
    "    naive_df = naive_df[naive_df['length'] >= plot_min_length]\n",
    "    print(naive_df)\n",
    "    \n",
    "    fig, ax = plt.subplots()\n",
    "    \n",
    "    ax.set_ylim([0, 100])\n",
    "    \n",
    "    plt.scatter(naive_df['gc_content'], naive_df['average_coverage'], c = naive_df['length'])\n",
    "    # Add labels and legend\n",
    "    plt.xlabel('GC content')\n",
    "    plt.ylabel('Average Coverage')\n",
    "    plt.title('Blob plot with naive averages')\n",
    "    plt.legend(loc=\"upper right\")\n",
    "    \n",
    "    # save the plot\n",
    "    if save_blob_plot:\n",
    "        save_path = os.path.join(out_dir, \"Blob_naive.png\")\n",
    "        plt.savefig(save_path)\n",
    "\n",
    "    # Show the plot\n",
    "    plt.show()"
   ]
  },
  {
   "cell_type": "code",
   "execution_count": 50,
   "id": "4beac461",
   "metadata": {},
   "outputs": [
    {
     "name": "stdout",
     "output_type": "stream",
     "text": [
      "         id  gc_content    length  average_coverage\n",
      "118  000065    0.379598   2475378             58.76\n",
      "119  000066    0.381390   2462481             64.94\n",
      "120  000067    0.380417   2395003             62.25\n",
      "121  000070    0.382374   2190025             59.26\n",
      "122  000071    0.383769   2181966             61.57\n",
      "..      ...         ...       ...               ...\n",
      "274  000005    0.372806  10947282             60.71\n",
      "275  000006    0.372649   8531207             59.03\n",
      "276  000007    0.373143   8143997             61.96\n",
      "277  000008    0.375139   7607640             65.62\n",
      "278  000009    0.375643   7593897             61.36\n",
      "\n",
      "[67 rows x 4 columns]\n"
     ]
    },
    {
     "data": {
      "image/png": "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",
      "text/plain": [
       "<Figure size 640x480 with 1 Axes>"
      ]
     },
     "metadata": {},
     "output_type": "display_data"
    }
   ],
   "source": [
    "if visualize_blob:\n",
    "    #plot 2 trimmed/chunked\n",
    "    \n",
    "    data = [{'id': k, 'gc_content': v[0], 'length' : v[1]} for k, v in gc_trimmed_mean.items()]\n",
    "    # Convert the list of dictionaries to dataframes\n",
    "    df1 = pd.DataFrame(data)\n",
    "    trimmed_df = pd.merge(df1, trimmed_mean, on = 'id')\n",
<<<<<<< HEAD
=======
    "    trimmed_df = trimmed_df[trimmed_df['length'] >= plot_min_length]\n",
>>>>>>> ac37f36 (added lengths)
    "    print(trimmed_df) \n",
    "    \n",
    "    fig, ax = plt.subplots()\n",
    "    ax.set_ylim([0, 100])\n",
    "    \n",
    "    labels = list(trimmed_df['id'])\n",
    "    plt.scatter(trimmed_df['gc_content'], trimmed_df['average_coverage'], c = trimmed_df['length'])\n",
    "    # Add labels and legend\n",
    "    plt.xlabel('GC content')\n",
    "    plt.ylabel('Trimmed Average Coverage')\n",
    "    plt.title('Blob plot with trimmed averages with chunks of ' + str(chunk_size))\n",
    "    #plt.legend(labels, loc=\"upper right\")\n",
    "    \n",
    "    # save the plot\n",
    "    if save_blob_plot:\n",
    "        save_path = os.path.join(out_dir, \"Blob.png\")\n",
    "        plt.savefig(save_path)\n",
    "\n",
    "    # Show the plot\n",
    "    plt.show()"
   ]
  },
  {
   "cell_type": "code",
   "execution_count": null,
   "id": "59264dd8",
   "metadata": {},
   "outputs": [],
   "source": [
    "print(trimmed_df[trimmed_df['average_coverage'] < 10.0])"
   ]
  },
  {
   "cell_type": "code",
   "execution_count": null,
   "id": "2388c024",
   "metadata": {},
   "outputs": [],
   "source": [
    " "
   ]
  },
  {
   "cell_type": "raw",
   "id": "615c445d",
   "metadata": {},
   "source": [
    "#TODO \n",
    "1. add trim mean --done\n",
    "2. add mean to plot -- done\n",
    "3. highlight chunks outside a given range of mean -- done\n",
    "4. repeat 1-3 for coverage -- done\n",
    "5. blob plots --done\n",
    "6. make dataframe with id, gc, coverage for both naive and trimmed --done\n",
    "7. add option to ignore contigs under a certain length --done\n",
    "8. color blob contigs by length --todo\n",
    "9. histogram of contig length --todo get from coverage file end-start, add to df\n",
    "10. make blob plots for N75-L75 N50-L50\n",
    "...\n",
    "\n",
    "kmeans?\n",
    "blast"
   ]
  }
 ],
 "metadata": {
  "kernelspec": {
   "display_name": "Heliopora",
   "language": "python",
   "name": "heliopora"
  },
  "language_info": {
   "codemirror_mode": {
    "name": "ipython",
    "version": 3
   },
   "file_extension": ".py",
   "mimetype": "text/x-python",
   "name": "python",
   "nbconvert_exporter": "python",
   "pygments_lexer": "ipython3",
   "version": "3.9.16"
  }
 },
 "nbformat": 4,
 "nbformat_minor": 5
}
