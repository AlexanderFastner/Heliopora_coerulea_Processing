{
 "cells": [
  {
   "cell_type": "markdown",
   "id": "5556c79b",
   "metadata": {},
   "source": [
    "# Description"
   ]
  },
  {
   "cell_type": "code",
   "execution_count": 1,
   "id": "8be802a0",
   "metadata": {},
   "outputs": [],
   "source": [
    "#1 get GC content from contigs\n",
    "    #get GC content in set chunk sizes\n",
    "    \n",
    "#2 get coverage for contigs\n",
    "    #get coverage in chunk sizes\n",
    "\n",
    "#3 blob plot gc vs average coverage\n",
    "\n",
    "#4 plot gc content/coverage for each contig (if significant in some way)\n",
    "\n",
    "#5 kmeans clusters"
   ]
  },
  {
   "cell_type": "code",
   "execution_count": 35,
   "id": "dfd84dcf",
   "metadata": {},
   "outputs": [],
   "source": [
    "import pandas as pd\n",
    "import matplotlib.pyplot as plt\n",
    "import numpy as np\n",
    "import csv\n",
    "import os"
   ]
  },
  {
   "cell_type": "markdown",
   "id": "0db0f295",
   "metadata": {},
   "source": [
    "# Parameters"
   ]
  },
  {
   "cell_type": "markdown",
   "id": "88e65f39",
   "metadata": {},
   "source": [
    "assembly : the fasta input\n",
    "coverage_per_contig : A tsv file with information for each contig\n",
    "coverage_per_base:  A tsv file with coverage information for each base pair position\n",
    "chunk_size : the chunk size for dividing up longer contigs (default 10000)\n",
    "visualizeGC : An option for creating plots showing the distribution of GC content accross a contig in steps of a given chunk size (default = False)"
   ]
  },
  {
   "cell_type": "code",
   "execution_count": 3,
   "id": "49e4d834",
   "metadata": {},
   "outputs": [],
   "source": [
    "assembly = \"./data/final.p_ctg_test.fasta\"\n",
    "coverage_per_contig = \"./data/heliopora_coerulea_hifi_2_p_assembly.coverage\"\n",
    "coverage_per_base = \"./data/heliopora_coerulea_hifi_2_p_assembly_test.depth\"\n",
    "chunk_size = 10000\n",
    "visualizeGC = True\n"
   ]
  },
  {
   "cell_type": "markdown",
   "id": "b577c4ef",
   "metadata": {},
   "source": [
    "# Naive GC content for each content"
   ]
  },
  {
   "cell_type": "code",
   "execution_count": 4,
   "id": "093c5622",
   "metadata": {},
   "outputs": [],
   "source": [
    "def get_gc_content(fasta_file):\n",
    "    \"\"\"\n",
    "    Reads in a FASTA file and returns a dictionary mapping contig IDs to their GC content\n",
    "    \"\"\"\n",
    "    gc_content = {}\n",
    "    current_id = None\n",
    "    current_seq = \"\"\n",
    "    \n",
    "    with open(fasta_file, \"r\") as f:\n",
    "        for line in f:\n",
    "            if line.startswith(\">\"):\n",
    "                # If this is a new contig, calculate the GC content for the previous one (if there was one)\n",
    "                if current_id is not None:\n",
    "                    gc_content[current_id] = (current_seq.count(\"G\") + current_seq.count(\"C\")) / len(current_seq)\n",
    "                \n",
    "                # Start the new contig\n",
    "                current_id = line.strip()[1:]\n",
    "                current_seq = \"\"\n",
    "            else:\n",
    "                current_seq += line.strip()\n",
    "    \n",
    "    # Calculate GC content for the final contig\n",
    "    gc_content[current_id] = (current_seq.count(\"G\") + current_seq.count(\"C\")) / len(current_seq)\n",
    "    \n",
    "    return gc_content"
   ]
  },
  {
   "cell_type": "code",
   "execution_count": 5,
   "id": "65e635c3",
   "metadata": {},
   "outputs": [
    {
     "name": "stdout",
     "output_type": "stream",
     "text": [
      "{'ctg/p/l/000409/0': 0.4361125376490347, 'ctg/p/l/000412/0': 0.3682002202177709}\n"
     ]
    }
   ],
   "source": [
    "naive_gc = get_gc_content(assembly)\n",
    "print(naive_gc)"
   ]
  },
  {
   "cell_type": "markdown",
   "id": "957e7cfd",
   "metadata": {},
   "source": [
    "# GC content for each contig by averaging in given chunk sizes"
   ]
  },
  {
   "cell_type": "code",
   "execution_count": 33,
   "id": "5d4c433b",
   "metadata": {},
   "outputs": [],
   "source": [
    "def get_gc_content_chunks(fasta_file, chunk_size):\n",
    "    \"\"\"\n",
    "    Reads in a FASTA file and returns a dictionary mapping contig IDs to a list of gc content per chunk size\n",
    "    \"\"\"\n",
    "    gc_content = {}\n",
    "    current_id = None\n",
    "    current_seq = \"\"\n",
    "    chunks = []\n",
    "    \n",
    "    with open(fasta_file, \"r\") as f:\n",
    "        for line in f:\n",
    "            if line.startswith(\">\"):\n",
    "                # If this is a new contig, calculate the GC content for the previous one (if there was one)\n",
    "                if current_id is not None:\n",
    "                    i = 0\n",
    "                    while i < len(current_seq):\n",
    "                        # check for last chunk\n",
    "                        if (i + chunk_size) > len(current_seq):\n",
    "                            end = len(current_seq)\n",
    "                        else:\n",
    "                            end = i + chunk_size\n",
    "                        sub = current_seq[i:end]\n",
    "                        gc = round(((sub.count(\"G\") + sub.count(\"C\")) / len(sub)),2)\n",
    "                        chunks.append(gc)\n",
    "                        i = end\n",
    "                    # add to dictionary in form {current_id : [array of GC content of given chunk size]}\n",
    "                    gc_content[current_id] = chunks\n",
    "                \n",
    "                # Start the new contig\n",
    "                current_id = line.strip()[1:]\n",
    "                current_seq = \"\"\n",
    "                chunks = []\n",
    "                \n",
    "            else:\n",
    "                current_seq += line.strip()\n",
    "                \n",
    "        # calculate GC content for the last contig\n",
    "        if current_id is not None:\n",
    "            i = 0\n",
    "            while i < len(current_seq):\n",
    "                # check for last chunk\n",
    "                if (i + chunk_size) > len(current_seq):\n",
    "                    end = len(current_seq)\n",
    "                else:\n",
    "                    end = i + chunk_size\n",
    "                sub = current_seq[i:end]\n",
    "                gc = round(((sub.count(\"G\") + sub.count(\"C\")) / len(sub)), 2)\n",
    "                chunks.append(gc)\n",
    "                i = end\n",
    "            # add to dictionary in form {current_id : [array of GC content of given chunk size]}\n",
    "            gc_content[current_id] = chunks\n",
    "        \n",
    "    return gc_content\n"
   ]
  },
  {
   "cell_type": "code",
   "execution_count": 34,
   "id": "7b66a514",
   "metadata": {},
   "outputs": [
    {
     "name": "stdout",
     "output_type": "stream",
     "text": [
      "{'ctg/p/l/000409/0': [0.46, 0.4, 0.37, 0.46, 0.46, 0.44, 0.39, 0.44, 0.44, 0.44, 0.44, 0.44, 0.44, 0.44, 0.44, 0.44, 0.45, 0.46, 0.45, 0.38, 0.4, 0.46, 0.46, 0.45, 0.38, 0.44, 0.44, 0.44, 0.44, 0.44, 0.44, 0.44, 0.44, 0.45, 0.44, 0.45, 0.43], 'ctg/p/l/000412/0': [0.4, 0.36, 0.38, 0.45, 0.4, 0.38, 0.38, 0.38, 0.35, 0.37, 0.37, 0.36, 0.35, 0.41, 0.39, 0.36, 0.38, 0.36, 0.4, 0.41, 0.37, 0.38, 0.37, 0.37, 0.4, 0.39, 0.37, 0.37, 0.37, 0.39, 0.31, 0.25, 0.27, 0.27, 0.36, 0.38]}\n"
     ]
    }
   ],
   "source": [
    "chunks = get_gc_content_chunks(assembly, chunk_size)\n",
    "print(chunks)"
   ]
  },
  {
   "cell_type": "markdown",
   "id": "2b2fc4ed",
   "metadata": {},
   "source": [
    "# Visualize GC content "
   ]
  },
  {
   "cell_type": "code",
   "execution_count": 43,
   "id": "bda5da95",
   "metadata": {},
   "outputs": [
    {
     "name": "stderr",
     "output_type": "stream",
     "text": [
      "No artists with labels found to put in legend.  Note that artists whose label start with an underscore are ignored when legend() is called with no argument.\n"
     ]
    },
    {
     "data": {
      "image/png": "[encoded data removed]",
      "text/plain": [
       "<Figure size 600x600 with 2 Axes>"
      ]
     },
     "metadata": {},
     "output_type": "display_data"
    }
   ],
   "source": [
    "if visualizeGC:\n",
    "    # extract the ids and values from the dictionary\n",
    "    ids = list(chunks.keys())\n",
    "    GC_Content = list(chunks.values())\n",
    "\n",
    "    # set up the figure and axis\n",
    "    fig, axs = plt.subplots(nrows=len(ids), sharex=True, sharey=True, figsize=(6, 6))\n",
    "\n",
    "    # calculate the bar widths and offsets\n",
    "    n = len(ids)\n",
    "    bar_width = 0.4\n",
    "    offsets = np.linspace(-bar_width/2, bar_width/2, n)\n",
    "\n",
    "    # iterate over the ids and create a subplot for each one\n",
    "    for i in range(n):\n",
    "        ax = axs[i]\n",
    "        ax.bar(np.arange(len(values[i]))+offsets[i], values[i], bar_width)\n",
    "\n",
    "    # add labels and title\n",
    "    ax.set_xlabel('Index')\n",
    "    ax.set_ylabel('GC_Content')\n",
    "    ax.set_title('gc content along ids')\n",
    "\n",
    "    # add legend\n",
    "    ax.legend(loc=\"upper right\")\n",
    "\n",
    "    # show the plot\n",
    "    plt.show()"
   ]
  },
  {
   "cell_type": "code",
   "execution_count": null,
   "id": "04b31a3a",
   "metadata": {},
   "outputs": [],
   "source": []
  },
  {
   "cell_type": "code",
   "execution_count": null,
   "id": "2ecbb172",
   "metadata": {},
   "outputs": [],
   "source": []
  }
 ],
 "metadata": {
  "kernelspec": {
   "display_name": "Heliopora",
   "language": "python",
   "name": "heliopora"
  },
  "language_info": {
   "codemirror_mode": {
    "name": "ipython",
    "version": 3
   },
   "file_extension": ".py",
   "mimetype": "text/x-python",
   "name": "python",
   "nbconvert_exporter": "python",
   "pygments_lexer": "ipython3",
   "version": "3.9.16"
  }
 },
 "nbformat": 4,
 "nbformat_minor": 5
}
