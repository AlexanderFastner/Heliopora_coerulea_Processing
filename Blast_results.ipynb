{
 "cells": [
  {
   "cell_type": "markdown",
   "id": "01479be7",
   "metadata": {},
   "source": [
    "# Goal 1. Take results from BLAST and get concencus for each contig\n",
    "# Goal 2. Compare to clusters from K-means."
   ]
  },
  {
   "cell_type": "markdown",
   "id": "dee711d3",
   "metadata": {},
   "source": [
    "## Imports"
   ]
  },
  {
   "cell_type": "code",
   "execution_count": 1,
   "id": "9853231f",
   "metadata": {},
   "outputs": [],
   "source": [
    "import numpy as np\n",
    "import pandas as pd\n",
    "import os"
   ]
  },
  {
   "cell_type": "markdown",
   "id": "53d32d2b",
   "metadata": {},
   "source": [
    "## Parameters"
   ]
  },
  {
   "cell_type": "raw",
   "id": "24b7bde8",
   "metadata": {},
   "source": [
    "output: Where to output final file \n",
    "threshold: The threshold for what % of Blast false hits is allowed"
   ]
  },
  {
   "cell_type": "code",
   "execution_count": 10,
   "id": "6c7b6729",
   "metadata": {},
   "outputs": [],
   "source": [
    "output = 'tbd'\n",
    "threshold = 0.8"
   ]
  },
  {
   "cell_type": "markdown",
   "id": "21f76dc9",
   "metadata": {},
   "source": [
    "## Take results from BLAST and get concencus for each contig"
   ]
  },
  {
   "cell_type": "code",
   "execution_count": 14,
   "id": "c164ac19",
   "metadata": {},
   "outputs": [
    {
     "name": "stdout",
     "output_type": "stream",
     "text": [
      "./100kb_subset_data/cluster_0/split_contigs/\n",
      "octo: 226\n",
      "dino: 2\n",
      "mixed: 1\n",
      "none: 24\n",
      "./100kb_subset_data/cluster_1/split_contigs/\n",
      "octo: 110\n",
      "dino: 85\n",
      "mixed: 0\n",
      "none: 221\n"
     ]
    }
   ],
   "source": [
    "cluster_0 = './100kb_subset_data/cluster_0/split_contigs/'\n",
    "cluster_1 = './100kb_subset_data/cluster_1/split_contigs/'\n",
    "clusters = [cluster_0, cluster_1]\n",
    "needed = []\n",
    "\n",
    "#dictionaries\n",
    "octocoral = ['Dendronephthya gigantea', 'Xenia sp. Carnegie-2017']\n",
    "dinoflagellates = ['Breviolum minutum Mf 1.05b.01','Symbiodinium microadriaticum','Symbiodinium sp. clade A Y106',\n",
    "                   'Symbiodinium sp. clade C Y103','Symbiodinium kawagutii','Symbiodinium natans',\n",
    "                   'Symbiodinium sp. CCMP2592','Symbiodinium sp. KB8','Symbiodinium sp. CCMP2456',\n",
    "                   'Symbiodinium pilosum','Symbiodinium necroappetens','Cladocopium goreaui']\n",
    "\n",
    "#for each cluster\n",
    "for cluster in clusters:\n",
    "    print(cluster)\n",
    "    all_contigs = {}\n",
    "    concencus_dict = {}\n",
    "    #for file in each cluster\n",
    "    for file in os.listdir(cluster):\n",
    "        filename = file.split('.')[0]\n",
    "        #count_dict has a count of number of each occurence of match\n",
    "        count_dict = {'Breviolum minutum Mf 1.05b.01':0,'Symbiodinium microadriaticum':0,\n",
    "                      'Symbiodinium sp. clade A Y106':0,'Symbiodinium sp. clade C Y103':0,'Symbiodinium kawagutii':0,\n",
    "                      'Symbiodinium natans':0,'Symbiodinium sp. CCMP2592':0,'Symbiodinium sp. KB8':0,\n",
    "                      'Symbiodinium sp. CCMP2456':0,'Symbiodinium pilosum':0,'Symbiodinium necroappetens':0,\n",
    "                      'Cladocopium goreaui':0,'Dendronephthya gigantea':0, 'Xenia sp. Carnegie-2017': 0}\n",
    "        if '.long.tab' in file:\n",
    "            with open(cluster + file, 'r') as f:\n",
    "                #print(filename)\n",
    "                #get header number, get last column\n",
    "                for line in f:\n",
    "                    line = line.split(sep = '\\t')\n",
    "                    #increase count for match\n",
    "                    for entry in count_dict:\n",
    "                        if entry in line[24].strip('\\n'):\n",
    "                            count_dict[entry]+=1\n",
    "            all_contigs[filename] = count_dict\n",
    "            \n",
    "    #get count of octocorral and dinoflagellates\n",
    "    #print(len(all_contigs))\n",
    "    for p in all_contigs:\n",
    "        o = 0\n",
    "        d = 0\n",
    "        for entry in all_contigs[p]:\n",
    "            #print(entry)\n",
    "            if entry in dinoflagellates:\n",
    "                d+=all_contigs[p][entry]\n",
    "            if entry in octocoral:\n",
    "                o+=all_contigs[p][entry]\n",
    "        \n",
    "        #decide (octocoral/dinoflagellates/mixed/none)\n",
    "        decision = 'none'\n",
    "        if d == 0 and o >= 1:\n",
    "            decision = 'octocoral'\n",
    "        if d >= 1 and o ==0 :\n",
    "            decision = 'dinoflagellates'\n",
    "        if d >= 1 and o >= 1:\n",
    "            if (d/o) < threshold:\n",
    "                decision = 'octo'\n",
    "                #print('octo '+str(d)+' '+str(o))\n",
    "            else:\n",
    "                decision = 'mixed'\n",
    "                #print('mixed '+str(d)+' '+str(o))\n",
    "        #add decision to concensus dict\n",
    "        concencus_dict[p] = decision     \n",
    "        \n",
    "    #print(concencus_dict)\n",
    "    \n",
    "    #print totals of each\n",
    "    octo=0\n",
    "    dino=0\n",
    "    mixed=0\n",
    "    none=0\n",
    "    \n",
    "    for key in concencus_dict:\n",
    "        if concencus_dict[key] in 'octocoral':\n",
    "            octo +=1\n",
    "            needed.append(key)\n",
    "        if concencus_dict[key] in 'dinoflagellates':\n",
    "            dino +=1\n",
    "        if concencus_dict[key] in 'mixed':\n",
    "            mixed +=1\n",
    "        if concencus_dict[key] in 'none':\n",
    "            none +=1\n",
    "    print('octo: ' + str(octo))\n",
    "    print('dino: ' + str(dino))\n",
    "    print('mixed: ' + str(mixed))\n",
    "    print('none: ' + str(none))\n"
   ]
  },
  {
   "cell_type": "code",
   "execution_count": 18,
   "id": "89457a76",
   "metadata": {},
   "outputs": [],
   "source": [
    "#write to output file\n",
    "with open('./out_dir/cluster_info/needed.txt','w') as out:\n",
    "    for i in needed:\n",
    "        out.write(str(i) + '\\n')\n",
    "out.close()"
   ]
  },
  {
   "cell_type": "code",
   "execution_count": 17,
   "id": "87dc800d",
   "metadata": {},
   "outputs": [
    {
     "name": "stdout",
     "output_type": "stream",
     "text": [
      "336\n"
     ]
    }
   ],
   "source": [
    "print(len(needed))\n",
    "#print(needed)"
   ]
  },
  {
   "cell_type": "code",
   "execution_count": null,
   "id": "1a06cfe8",
   "metadata": {},
   "outputs": [],
   "source": [
    "\n",
    "\n"
   ]
  },
  {
   "cell_type": "code",
   "execution_count": null,
   "id": "44fd959b",
   "metadata": {},
   "outputs": [],
   "source": [
    "#TODO\n",
    "#Filter mixed bettter --done\n",
    "#subset octo --done\n",
    "#sanity check with blobplot --todo\n",
    "#compare to kmeans --todo\n",
    "#send subset to Sergio --todo\n",
    "#take subset of octocorrals from longest to shortest till genome length\n",
    "#annotation\n",
    "\n",
    "\n"
   ]
  }
 ],
 "metadata": {
  "kernelspec": {
   "display_name": "Heliopora",
   "language": "python",
   "name": "heliopora"
  },
  "language_info": {
   "codemirror_mode": {
    "name": "ipython",
    "version": 3
   },
   "file_extension": ".py",
   "mimetype": "text/x-python",
   "name": "python",
   "nbconvert_exporter": "python",
   "pygments_lexer": "ipython3",
   "version": "3.9.16"
  }
 },
 "nbformat": 4,
 "nbformat_minor": 5
}
